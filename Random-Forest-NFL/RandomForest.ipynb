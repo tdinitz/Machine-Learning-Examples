{
 "cells": [
  {
   "cell_type": "code",
   "execution_count": 1,
   "metadata": {},
   "outputs": [],
   "source": [
    "import pandas as pd\n",
    "import numpy as np\n",
    "import matplotlib.pyplot as plt\n",
    "from sklearn.ensemble import RandomForestClassifier"
   ]
  },
  {
   "cell_type": "code",
   "execution_count": 2,
   "metadata": {
    "scrolled": true
   },
   "outputs": [],
   "source": [
    "#Define which columns I want to use\n",
    "features_to_use=['qtr','down','TimeSecs','yrdline100','ydstogo','posteam','PosTeamScore','DefTeamScore','PlayType']"
   ]
  },
  {
   "cell_type": "code",
   "execution_count": 3,
   "metadata": {},
   "outputs": [],
   "source": [
    "all_plays=pd.read_csv('NFL Play by Play 2009-2016 (v3).csv',usecols=features_to_use)"
   ]
  },
  {
   "cell_type": "code",
   "execution_count": 4,
   "metadata": {},
   "outputs": [],
   "source": [
    "# Define function to return all plays for a given team\n",
    "# Removes penalties from list of plays\n",
    "# Removes team name from data set we'll work with\n",
    "def plays_for_team(plays,team_name):\n",
    "    return plays.loc[(plays['posteam']==team_name) & \\\n",
    "                     (plays['PlayType'].isin(['Pass','Run'])) & \\\n",
    "                     ~(plays['down'].isnull()) & \\\n",
    "                     ~(plays['qtr']==5)].drop('posteam',axis=1)"
   ]
  },
  {
   "cell_type": "code",
   "execution_count": 5,
   "metadata": {},
   "outputs": [],
   "source": [
    "team_plays=plays_for_team(all_plays,'NE') #Read in plays\n",
    "team_plays_one_hot=pd.get_dummies(team_plays,columns=[\"down\",\"qtr\"]) # One-hot encode down and quarter"
   ]
  },
  {
   "cell_type": "code",
   "execution_count": 6,
   "metadata": {},
   "outputs": [],
   "source": [
    "#Choose whether to use base or one-hot data\n",
    "one_hot=1\n",
    "#Split up into features and labels, and convert to numpy arrays\n",
    "if one_hot:\n",
    "    labels=np.array(team_plays_one_hot['PlayType'])\n",
    "    team_plays_one_hot=team_plays_one_hot.drop('PlayType',axis=1)\n",
    "    feature_list=list(team_plays_one_hot.columns)\n",
    "    team_plays_np=np.array(team_plays_one_hot)        \n",
    "else:\n",
    "    labels=np.array(team_plays['PlayType'])\n",
    "    team_plays=team_plays.drop('PlayType',axis=1)\n",
    "    feature_list=list(team_plays.columns)\n",
    "    team_plays_np=np.array(team_plays)"
   ]
  },
  {
   "cell_type": "code",
   "execution_count": 7,
   "metadata": {},
   "outputs": [],
   "source": [
    "features=team_plays_one_hot.columns.get_values().tolist()"
   ]
  },
  {
   "cell_type": "code",
   "execution_count": 8,
   "metadata": {},
   "outputs": [],
   "source": [
    "# Split up data into training and testing\n",
    "# Since the data is chronological, will train on first 80% of data, test on last 20% of data\n",
    "train_test_split=int(.8*team_plays_np.shape[0])\n",
    "\n",
    "train_features=team_plays_np[0:train_test_split]\n",
    "train_labels=labels[0:train_test_split]\n",
    "\n",
    "test_features=team_plays_np[train_test_split:]\n",
    "test_labels=labels[train_test_split:]"
   ]
  },
  {
   "cell_type": "code",
   "execution_count": 9,
   "metadata": {},
   "outputs": [
    {
     "name": "stdout",
     "output_type": "stream",
     "text": [
      "(1646, 13)\n",
      "(1646,)\n",
      "(6584, 13)\n",
      "(6584,)\n"
     ]
    }
   ],
   "source": [
    "print(test_features.shape)\n",
    "print(test_labels.shape)\n",
    "\n",
    "print(train_features.shape)\n",
    "print(train_labels.shape)"
   ]
  },
  {
   "cell_type": "code",
   "execution_count": 10,
   "metadata": {},
   "outputs": [
    {
     "name": "stdout",
     "output_type": "stream",
     "text": [
      "0.568043742406\n"
     ]
    }
   ],
   "source": [
    "# Compute baseline -- will be percentage of run plays or pass plays, whichever's larger\n",
    "num_pass=test_labels[test_labels==\"Pass\"].shape[0]\n",
    "num_run=test_labels[test_labels==\"Run\"].shape[0]\n",
    "baseline=max(num_pass,num_run)/float(num_pass+num_run)\n",
    "print(baseline)"
   ]
  },
  {
   "cell_type": "code",
   "execution_count": 11,
   "metadata": {},
   "outputs": [],
   "source": [
    "# Create and train the model\n",
    "rf = RandomForestClassifier(n_estimators = 1000, random_state = 42)\n",
    "# Train the model on training data\n",
    "rf.fit(train_features, train_labels);"
   ]
  },
  {
   "cell_type": "code",
   "execution_count": 12,
   "metadata": {},
   "outputs": [],
   "source": [
    "#Predict on test data\n",
    "predictions = rf.predict(test_features)"
   ]
  },
  {
   "cell_type": "code",
   "execution_count": 13,
   "metadata": {},
   "outputs": [
    {
     "data": {
      "text/plain": [
       "0.6573511543134872"
      ]
     },
     "execution_count": 13,
     "metadata": {},
     "output_type": "execute_result"
    }
   ],
   "source": [
    "float(np.sum(np.equal(predictions,test_labels)))/test_labels.shape[0]"
   ]
  },
  {
   "cell_type": "code",
   "execution_count": 14,
   "metadata": {},
   "outputs": [],
   "source": [
    "#non one-hot gets accuracy of 0.652962515114873 with n=10000"
   ]
  },
  {
   "cell_type": "code",
   "execution_count": 15,
   "metadata": {},
   "outputs": [
    {
     "data": {
      "text/plain": [
       "0.7764705882352941"
      ]
     },
     "execution_count": 15,
     "metadata": {},
     "output_type": "execute_result"
    }
   ],
   "source": [
    "#Find accuracy when attempting to predict a pass play\n",
    "pass_plays=np.where(test_labels==\"Pass\")[0] #Returns indices of pass plays\n",
    "sum(predictions[pass_plays]==\"Pass\")/float(pass_plays.shape[0])"
   ]
  },
  {
   "cell_type": "code",
   "execution_count": 16,
   "metadata": {},
   "outputs": [
    {
     "data": {
      "text/plain": [
       "0.5007032348804501"
      ]
     },
     "execution_count": 16,
     "metadata": {},
     "output_type": "execute_result"
    }
   ],
   "source": [
    "#Find accuracy when attempting to predict a run play\n",
    "run_plays=np.where(test_labels==\"Run\")[0] #Returns indices of run plays\n",
    "sum(predictions[run_plays]==\"Run\")/float(run_plays.shape[0])"
   ]
  },
  {
   "cell_type": "code",
   "execution_count": 17,
   "metadata": {},
   "outputs": [],
   "source": [
    "#Terrible at predicting run plays"
   ]
  },
  {
   "cell_type": "code",
   "execution_count": 18,
   "metadata": {},
   "outputs": [
    {
     "data": {
      "text/plain": [
       "0.6716003700277521"
      ]
     },
     "execution_count": 18,
     "metadata": {},
     "output_type": "execute_result"
    }
   ],
   "source": [
    "#Find accuracy given prediction of a pass play\n",
    "pass_plays=np.where(predictions==\"Pass\")[0] #Returns indices of pass plays\n",
    "sum(test_labels[pass_plays]==\"Pass\")/float(pass_plays.shape[0])"
   ]
  },
  {
   "cell_type": "code",
   "execution_count": 19,
   "metadata": {},
   "outputs": [
    {
     "data": {
      "text/plain": [
       "0.6300884955752213"
      ]
     },
     "execution_count": 19,
     "metadata": {},
     "output_type": "execute_result"
    }
   ],
   "source": [
    "#Find accuracy given prediction of a run play\n",
    "run_plays=np.where(predictions==\"Run\")[0] #Returns indices of run plays\n",
    "sum(test_labels[run_plays]==\"Run\")/float(run_plays.shape[0])"
   ]
  },
  {
   "cell_type": "code",
   "execution_count": 20,
   "metadata": {},
   "outputs": [],
   "source": [
    "#Plot feature importance\n",
    "importances=rf.feature_importances_\n",
    "indices = np.argsort(importances)"
   ]
  },
  {
   "cell_type": "code",
   "execution_count": 22,
   "metadata": {},
   "outputs": [
    {
     "data": {
      "text/plain": [
       "array([ 8,  9, 12, 11, 10,  6,  5,  7,  4,  2,  3,  1,  0])"
      ]
     },
     "execution_count": 22,
     "metadata": {},
     "output_type": "execute_result"
    }
   ],
   "source": [
    "indices"
   ]
  },
  {
   "cell_type": "code",
   "execution_count": 23,
   "metadata": {},
   "outputs": [
    {
     "data": {
      "text/plain": [
       "array([0.29742105, 0.2392744 , 0.12900376, 0.13285458, 0.12264522,\n",
       "       0.01428081, 0.01183034, 0.0278921 , 0.00229334, 0.00344449,\n",
       "       0.00658753, 0.00639756, 0.0060748 ])"
      ]
     },
     "execution_count": 23,
     "metadata": {},
     "output_type": "execute_result"
    }
   ],
   "source": [
    "importances"
   ]
  },
  {
   "cell_type": "code",
   "execution_count": 24,
   "metadata": {},
   "outputs": [
    {
     "data": {
      "text/plain": [
       "['down_4.0',\n",
       " 'qtr_1',\n",
       " 'qtr_4',\n",
       " 'qtr_3',\n",
       " 'qtr_2',\n",
       " 'down_2.0',\n",
       " 'down_1.0',\n",
       " 'down_3.0',\n",
       " 'DefTeamScore',\n",
       " 'ydstogo',\n",
       " 'PosTeamScore',\n",
       " 'yrdline100',\n",
       " 'TimeSecs']"
      ]
     },
     "execution_count": 24,
     "metadata": {},
     "output_type": "execute_result"
    }
   ],
   "source": [
    "[features[ind] for ind in indices]"
   ]
  },
  {
   "cell_type": "code",
   "execution_count": 26,
   "metadata": {},
   "outputs": [
    {
     "data": {
      "image/png": "[encoded data removed]",
      "text/plain": [
       "<Figure size 432x288 with 1 Axes>"
      ]
     },
     "metadata": {},
     "output_type": "display_data"
    }
   ],
   "source": [
    "plt.title('Feature Importances')\n",
    "plt.barh(range(len(indices)), importances[indices], color='b', align='center')\n",
    "plt.yticks(range(len(indices)), [features[ind] for ind in indices])\n",
    "plt.xlabel('Relative Importance')\n",
    "plt.show()"
   ]
  },
  {
   "cell_type": "code",
   "execution_count": 28,
   "metadata": {},
   "outputs": [
    {
     "ename": "TypeError",
     "evalue": "list indices must be integers, not list",
     "output_type": "error",
     "traceback": [
      "\u001b[0;31m---------------------------------------------------------------------------\u001b[0m",
      "\u001b[0;31mTypeError\u001b[0m                                 Traceback (most recent call last)",
      "\u001b[0;32m<ipython-input-28-2b86c389fd1c>\u001b[0m in \u001b[0;36m<module>\u001b[0;34m()\u001b[0m\n\u001b[0;32m----> 1\u001b[0;31m \u001b[0mfeatures\u001b[0m\u001b[0;34m[\u001b[0m\u001b[0;34m[\u001b[0m\u001b[0mind\u001b[0m \u001b[0;32mfor\u001b[0m \u001b[0mind\u001b[0m \u001b[0;32min\u001b[0m \u001b[0mindices\u001b[0m\u001b[0;34m]\u001b[0m\u001b[0;34m]\u001b[0m\u001b[0;34m\u001b[0m\u001b[0m\n\u001b[0m",
      "\u001b[0;31mTypeError\u001b[0m: list indices must be integers, not list"
     ]
    }
   ],
   "source": [
    "features[]"
   ]
  },
  {
   "cell_type": "code",
   "execution_count": null,
   "metadata": {},
   "outputs": [],
   "source": []
  }
 ],
 "metadata": {
  "kernelspec": {
   "display_name": "Python 2",
   "language": "python",
   "name": "python2"
  },
  "language_info": {
   "codemirror_mode": {
    "name": "ipython",
    "version": 2
   },
   "file_extension": ".py",
   "mimetype": "text/x-python",
   "name": "python",
   "nbconvert_exporter": "python",
   "pygments_lexer": "ipython2",
   "version": "2.7.12"
  }
 },
 "nbformat": 4,
 "nbformat_minor": 2
}
