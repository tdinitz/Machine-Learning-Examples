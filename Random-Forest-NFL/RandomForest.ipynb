{
 "cells": [
  {
   "cell_type": "code",
   "execution_count": 35,
   "metadata": {},
   "outputs": [],
   "source": [
    "import pandas as pd\n",
    "import numpy as np\n",
    "from sklearn.ensemble import RandomForestClassifier"
   ]
  },
  {
   "cell_type": "code",
   "execution_count": 36,
   "metadata": {
    "scrolled": true
   },
   "outputs": [],
   "source": [
    "#Define which columns I want to use\n",
    "features=['qtr','down','TimeSecs','yrdline100','ydstogo','posteam','PosTeamScore','DefTeamScore','PlayType']"
   ]
  },
  {
   "cell_type": "code",
   "execution_count": 37,
   "metadata": {},
   "outputs": [],
   "source": [
    "all_plays=pd.read_csv('NFL Play by Play 2009-2016 (v3).csv',usecols=features)"
   ]
  },
  {
   "cell_type": "code",
   "execution_count": 38,
   "metadata": {},
   "outputs": [],
   "source": [
    "# Define function to return all plays for a given team\n",
    "# Removes penalties from list of plays\n",
    "# Removes team name from data set we'll work with\n",
    "def plays_for_team(plays,team_name):\n",
    "    return plays.loc[(plays['posteam']==team_name) & \\\n",
    "                     (plays['PlayType'].isin(['Pass','Run'])) & \\\n",
    "                     ~(plays['down'].isnull())].drop('posteam',axis=1)"
   ]
  },
  {
   "cell_type": "code",
   "execution_count": 39,
   "metadata": {},
   "outputs": [],
   "source": [
    "team_plays=plays_for_team(all_plays,'NE') #Read in plays"
   ]
  },
  {
   "cell_type": "code",
   "execution_count": 40,
   "metadata": {},
   "outputs": [],
   "source": [
    "#Split up into features and labels, and convert to numpy arrays\n",
    "labels=np.array(team_plays['PlayType'])\n",
    "team_plays=team_plays.drop('PlayType',axis=1)\n",
    "feature_list=list(team_plays.columns)\n",
    "team_plays_np=np.array(team_plays)"
   ]
  },
  {
   "cell_type": "code",
   "execution_count": 41,
   "metadata": {},
   "outputs": [],
   "source": [
    "# Split up data into training and testing\n",
    "# Since the data is chronological, will train on first 80% of data, test on last 20% of data\n",
    "train_test_split=int(.8*team_plays_np.shape[0])\n",
    "\n",
    "train_features=team_plays_np[0:train_test_split]\n",
    "train_labels=labels[0:train_test_split]\n",
    "\n",
    "test_features=team_plays_np[train_test_split:]\n",
    "test_labels=labels[train_test_split:]"
   ]
  },
  {
   "cell_type": "code",
   "execution_count": 42,
   "metadata": {},
   "outputs": [
    {
     "name": "stdout",
     "output_type": "stream",
     "text": [
      "(1654, 7)\n",
      "(1654,)\n",
      "(6616, 7)\n",
      "(6616,)\n"
     ]
    }
   ],
   "source": [
    "print(test_features.shape)\n",
    "print(test_labels.shape)\n",
    "\n",
    "print(train_features.shape)\n",
    "print(train_labels.shape)"
   ]
  },
  {
   "cell_type": "code",
   "execution_count": 43,
   "metadata": {},
   "outputs": [
    {
     "name": "stdout",
     "output_type": "stream",
     "text": [
      "0.569528415961\n"
     ]
    }
   ],
   "source": [
    "# Compute baseline -- will be percentage of run plays or pass plays, whichever's larger\n",
    "num_pass=test_labels[test_labels==\"Pass\"].shape[0]\n",
    "num_run=test_labels[test_labels==\"Run\"].shape[0]\n",
    "baseline=max(num_pass,num_run)/float(num_pass+num_run)\n",
    "print(baseline)"
   ]
  },
  {
   "cell_type": "code",
   "execution_count": 55,
   "metadata": {},
   "outputs": [],
   "source": [
    "# Create and train the model\n",
    "rf = RandomForestClassifier(n_estimators = 10000, random_state = 42)\n",
    "# Train the model on training data\n",
    "rf.fit(train_features, train_labels);"
   ]
  },
  {
   "cell_type": "code",
   "execution_count": 56,
   "metadata": {},
   "outputs": [],
   "source": [
    "#Predict on test data\n",
    "predictions = rf.predict(test_features)"
   ]
  },
  {
   "cell_type": "code",
   "execution_count": 57,
   "metadata": {},
   "outputs": [
    {
     "data": {
      "text/plain": [
       "0.652962515114873"
      ]
     },
     "execution_count": 57,
     "metadata": {},
     "output_type": "execute_result"
    }
   ],
   "source": [
    "float(np.sum(np.equal(predictions,test_labels)))/test_labels.shape[0]"
   ]
  },
  {
   "cell_type": "code",
   "execution_count": null,
   "metadata": {},
   "outputs": [],
   "source": []
  }
 ],
 "metadata": {
  "kernelspec": {
   "display_name": "Python 2",
   "language": "python",
   "name": "python2"
  },
  "language_info": {
   "codemirror_mode": {
    "name": "ipython",
    "version": 2
   },
   "file_extension": ".py",
   "mimetype": "text/x-python",
   "name": "python",
   "nbconvert_exporter": "python",
   "pygments_lexer": "ipython2",
   "version": "2.7.12"
  }
 },
 "nbformat": 4,
 "nbformat_minor": 2
}
